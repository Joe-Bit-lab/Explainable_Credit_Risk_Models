{
 "cells": [
  {
   "cell_type": "code",
   "execution_count": 17,
   "metadata": {},
   "outputs": [],
   "source": [
    "import pandas as pd\n",
    "import numpy as np\n",
    "import matplotlib.pyplot as plt\n",
    "from keras import models\n",
    "from keras import layers\n",
    "from keras import optimizers\n",
    "from keras import metrics\n",
    "from keras import callbacks\n",
    "from keras.callbacks import History\n",
    "from sklearn.model_selection import train_test_split\n",
    "from imblearn.under_sampling import RandomUnderSampler\n",
    "from keras.wrappers.scikit_learn import KerasClassifier\n",
    "from sklearn.model_selection import cross_val_score, KFold\n",
    "from sklearn.preprocessing import LabelEncoder\n",
    "from sklearn.model_selection import StratifiedKFold\n",
    "from sklearn.preprocessing import StandardScaler\n",
    "from sklearn.metrics import plot_confusion_matrix, confusion_matrix\n",
    "from sklearn.pipeline import Pipeline\n",
    "import time"
   ]
  },
  {
   "cell_type": "markdown",
   "metadata": {},
   "source": [
    "### Importing the transformed data saved from the \"Preprocessing\" Notebook:"
   ]
  },
  {
   "cell_type": "code",
   "execution_count": 2,
   "metadata": {},
   "outputs": [
    {
     "name": "stdout",
     "output_type": "stream",
     "text": [
      "Cell Runtime: 58.91173481941223\n"
     ]
    }
   ],
   "source": [
    "t0 = time.time()\n",
    "df = pd.read_csv('lending-club-loan-data/df_modeling.csv')\n",
    "df.drop('Unnamed: 0', axis=1, inplace=True)\n",
    "t1 = time.time()\n",
    "print('Cell Runtime: {}'.format(t1-t0))"
   ]
  },
  {
   "cell_type": "markdown",
   "metadata": {},
   "source": [
    "### Assinging X, and y:"
   ]
  },
  {
   "cell_type": "code",
   "execution_count": 3,
   "metadata": {},
   "outputs": [],
   "source": [
    "X = df.drop('loan_status',axis=1)\n",
    "y = df['loan_status']"
   ]
  },
  {
   "cell_type": "markdown",
   "metadata": {},
   "source": [
    "### Creating a train test split:"
   ]
  },
  {
   "cell_type": "code",
   "execution_count": 4,
   "metadata": {},
   "outputs": [],
   "source": [
    "X_train, X_test, y_train, y_test = train_test_split(X, y, test_size=0.2)"
   ]
  },
  {
   "cell_type": "markdown",
   "metadata": {},
   "source": [
    "### Sampling the train set for faster computation time"
   ]
  },
  {
   "cell_type": "code",
   "execution_count": 5,
   "metadata": {},
   "outputs": [],
   "source": [
    "ytrain_Xtrain=pd.concat([y_train, X_train], axis=1)\n",
    "ytrain_Xtrain_sample = ytrain_Xtrain.sample(100000, random_state=42)\n",
    "y_s = ytrain_Xtrain_sample['loan_status']\n",
    "X_s = ytrain_Xtrain_sample.drop('loan_status',axis=1)"
   ]
  },
  {
   "cell_type": "markdown",
   "metadata": {},
   "source": [
    "### Creating a train and validation splti from the original train data (this is done to preserve the test data and prevent bias during validation):"
   ]
  },
  {
   "cell_type": "code",
   "execution_count": 6,
   "metadata": {},
   "outputs": [],
   "source": [
    "X_t_train, X_t_val, y_t_train, y_t_val = train_test_split(X_s, y_s, test_size=0.2)"
   ]
  },
  {
   "cell_type": "code",
   "execution_count": 7,
   "metadata": {},
   "outputs": [
    {
     "data": {
      "text/plain": [
       "0    70979\n",
       "1     9021\n",
       "Name: loan_status, dtype: int64"
      ]
     },
     "execution_count": 7,
     "metadata": {},
     "output_type": "execute_result"
    }
   ],
   "source": [
    "y_t_train.value_counts()"
   ]
  },
  {
   "cell_type": "markdown",
   "metadata": {},
   "source": [
    "### The two classes are weighted so that the neural network can account for the imbalance:"
   ]
  },
  {
   "cell_type": "code",
   "execution_count": 8,
   "metadata": {},
   "outputs": [],
   "source": [
    "weight_for_0 = 1.0 / 71124\n",
    "weight_for_1 = 1.0 / 8876"
   ]
  },
  {
   "cell_type": "markdown",
   "metadata": {},
   "source": [
    "### Creating a neural network with 4 dense layers, using relu and sigmoid activation functions (this structure was inspired by the Keras imbalanced credit card fraud project which is available to view on their website):"
   ]
  },
  {
   "cell_type": "code",
   "execution_count": 9,
   "metadata": {},
   "outputs": [
    {
     "name": "stdout",
     "output_type": "stream",
     "text": [
      "WARNING:tensorflow:From /opt/anaconda3/lib/python3.7/site-packages/tensorflow_core/python/ops/resource_variable_ops.py:1630: calling BaseResourceVariable.__init__ (from tensorflow.python.ops.resource_variable_ops) with constraint is deprecated and will be removed in a future version.\n",
      "Instructions for updating:\n",
      "If using Keras pass *_constraint arguments to layers.\n"
     ]
    }
   ],
   "source": [
    "model = models.Sequential([\n",
    "        layers.Dense(256, activation=\"relu\", input_dim=len(X_t_train.columns)),\n",
    "        layers.Dropout(0.3),\n",
    "        layers.Dense(256, activation=\"relu\"),\n",
    "        layers.Dropout(0.3),\n",
    "        layers.Dense(256, activation=\"relu\"),\n",
    "        layers.Dense(1, activation=\"sigmoid\"),])"
   ]
  },
  {
   "cell_type": "code",
   "execution_count": 11,
   "metadata": {},
   "outputs": [
    {
     "name": "stdout",
     "output_type": "stream",
     "text": [
      "WARNING:tensorflow:From /opt/anaconda3/lib/python3.7/site-packages/keras/backend/tensorflow_backend.py:422: The name tf.global_variables is deprecated. Please use tf.compat.v1.global_variables instead.\n",
      "\n",
      "Train on 80000 samples, validate on 20000 samples\n",
      "Epoch 1/50\n",
      "80000/80000 [==============================] - 3s 39us/step - loss: 7.4693e-05 - auc: 0.5492 - recall: 0.5524 - precision: 0.1312 - fp: 32989.0000 - tn: 37990.0000 - tp: 4983.0000 - fn: 4038.0000 - val_loss: 0.8615 - val_auc: 0.6646 - val_recall: 0.7119 - val_precision: 0.1620 - val_fp: 8057.0000 - val_tn: 9756.0000 - val_tp: 1557.0000 - val_fn: 630.0000\n",
      "Epoch 2/50\n",
      "80000/80000 [==============================] - 2s 30us/step - loss: 4.5674e-05 - auc: 0.6375 - recall: 0.6671 - precision: 0.1624 - fp: 31044.0000 - tn: 39935.0000 - tp: 6018.0000 - fn: 3003.0000 - val_loss: 0.6440 - val_auc: 0.6654 - val_recall: 0.4659 - val_precision: 0.2220 - val_fp: 3571.0000 - val_tn: 14242.0000 - val_tp: 1019.0000 - val_fn: 1168.0000\n",
      "Epoch 3/50\n",
      "80000/80000 [==============================] - 2s 30us/step - loss: 3.4478e-05 - auc: 0.6675 - recall: 0.6417 - precision: 0.1798 - fp: 26400.0000 - tn: 44579.0000 - tp: 5789.0000 - fn: 3232.0000 - val_loss: 1.5071 - val_auc: 0.6801 - val_recall: 0.6941 - val_precision: 0.1724 - val_fp: 7287.0000 - val_tn: 10526.0000 - val_tp: 1518.0000 - val_fn: 669.0000\n",
      "Epoch 4/50\n",
      "80000/80000 [==============================] - 2s 31us/step - loss: 2.8885e-05 - auc: 0.6803 - recall: 0.6680 - precision: 0.1786 - fp: 27708.0000 - tn: 43271.0000 - tp: 6026.0000 - fn: 2995.0000 - val_loss: 0.6219 - val_auc: 0.7086 - val_recall: 0.6013 - val_precision: 0.1882 - val_fp: 5671.0000 - val_tn: 12142.0000 - val_tp: 1315.0000 - val_fn: 872.0000\n",
      "Epoch 5/50\n",
      "80000/80000 [==============================] - 3s 31us/step - loss: 2.1947e-05 - auc: 0.6874 - recall: 0.6585 - precision: 0.1835 - fp: 26436.0000 - tn: 44543.0000 - tp: 5940.0000 - fn: 3081.0000 - val_loss: 0.5744 - val_auc: 0.7123 - val_recall: 0.5373 - val_precision: 0.2082 - val_fp: 4468.0000 - val_tn: 13345.0000 - val_tp: 1175.0000 - val_fn: 1012.0000\n",
      "Epoch 6/50\n",
      "80000/80000 [==============================] - 3s 32us/step - loss: 2.2702e-05 - auc: 0.6940 - recall: 0.6547 - precision: 0.1854 - fp: 25951.0000 - tn: 45028.0000 - tp: 5906.0000 - fn: 3115.0000 - val_loss: 1.0923 - val_auc: 0.7035 - val_recall: 0.7540 - val_precision: 0.1694 - val_fp: 8087.0000 - val_tn: 9726.0000 - val_tp: 1649.0000 - val_fn: 538.0000\n",
      "Epoch 7/50\n",
      "80000/80000 [==============================] - 3s 32us/step - loss: 2.1112e-05 - auc: 0.6997 - recall: 0.6571 - precision: 0.1831 - fp: 26441.0000 - tn: 44538.0000 - tp: 5928.0000 - fn: 3093.0000 - val_loss: 0.9016 - val_auc: 0.7140 - val_recall: 0.7334 - val_precision: 0.1720 - val_fp: 7724.0000 - val_tn: 10089.0000 - val_tp: 1604.0000 - val_fn: 583.0000\n",
      "Epoch 8/50\n",
      "80000/80000 [==============================] - 3s 33us/step - loss: 1.8100e-05 - auc: 0.7058 - recall: 0.6556 - precision: 0.1839 - fp: 26247.0000 - tn: 44732.0000 - tp: 5914.0000 - fn: 3107.0000 - val_loss: 0.5958 - val_auc: 0.7201 - val_recall: 0.6584 - val_precision: 0.1834 - val_fp: 6411.0000 - val_tn: 11402.0000 - val_tp: 1440.0000 - val_fn: 747.0000\n",
      "Epoch 9/50\n",
      "80000/80000 [==============================] - 3s 34us/step - loss: 1.7749e-05 - auc: 0.7080 - recall: 0.6627 - precision: 0.1841 - fp: 26499.0000 - tn: 44480.0000 - tp: 5978.0000 - fn: 3043.0000 - val_loss: 0.6634 - val_auc: 0.7206 - val_recall: 0.5825 - val_precision: 0.2006 - val_fp: 5078.0000 - val_tn: 12735.0000 - val_tp: 1274.0000 - val_fn: 913.0000\n",
      "Epoch 10/50\n",
      "80000/80000 [==============================] - 3s 40us/step - loss: 1.8121e-05 - auc: 0.7128 - recall: 0.6659 - precision: 0.1864 - fp: 26220.0000 - tn: 44759.0000 - tp: 6007.0000 - fn: 3014.0000 - val_loss: 0.6285 - val_auc: 0.7213 - val_recall: 0.5556 - val_precision: 0.2089 - val_fp: 4601.0000 - val_tn: 13212.0000 - val_tp: 1215.0000 - val_fn: 972.0000\n",
      "Epoch 11/50\n",
      "80000/80000 [==============================] - 3s 36us/step - loss: 1.8320e-05 - auc: 0.7163 - recall: 0.6936 - precision: 0.1850 - fp: 27572.0000 - tn: 43407.0000 - tp: 6257.0000 - fn: 2764.0000 - val_loss: 0.6562 - val_auc: 0.7225 - val_recall: 0.7270 - val_precision: 0.1752 - val_fp: 7483.0000 - val_tn: 10330.0000 - val_tp: 1590.0000 - val_fn: 597.0000\n",
      "Epoch 12/50\n",
      "80000/80000 [==============================] - 3s 37us/step - loss: 1.6805e-05 - auc: 0.7160 - recall: 0.7289 - precision: 0.1787 - fp: 30219.0000 - tn: 40760.0000 - tp: 6575.0000 - fn: 2446.0000 - val_loss: 0.6410 - val_auc: 0.7234 - val_recall: 0.7641 - val_precision: 0.1718 - val_fp: 8055.0000 - val_tn: 9758.0000 - val_tp: 1671.0000 - val_fn: 516.0000\n",
      "Epoch 13/50\n",
      "80000/80000 [==============================] - 3s 39us/step - loss: 1.7476e-05 - auc: 0.7173 - recall: 0.7550 - precision: 0.1757 - fp: 31956.0000 - tn: 39023.0000 - tp: 6811.0000 - fn: 2210.0000 - val_loss: 0.6804 - val_auc: 0.7248 - val_recall: 0.7407 - val_precision: 0.1742 - val_fp: 7677.0000 - val_tn: 10136.0000 - val_tp: 1620.0000 - val_fn: 567.0000\n",
      "Epoch 14/50\n",
      "80000/80000 [==============================] - 3s 39us/step - loss: 1.6813e-05 - auc: 0.7197 - recall: 0.7570 - precision: 0.1774 - fp: 31657.0000 - tn: 39322.0000 - tp: 6829.0000 - fn: 2192.0000 - val_loss: 0.5946 - val_auc: 0.7238 - val_recall: 0.7339 - val_precision: 0.1749 - val_fp: 7570.0000 - val_tn: 10243.0000 - val_tp: 1605.0000 - val_fn: 582.0000\n",
      "Epoch 15/50\n",
      "80000/80000 [==============================] - 3s 40us/step - loss: 1.6248e-05 - auc: 0.7212 - recall: 0.7606 - precision: 0.1780 - fp: 31679.0000 - tn: 39300.0000 - tp: 6861.0000 - fn: 2160.0000 - val_loss: 0.6170 - val_auc: 0.7255 - val_recall: 0.7334 - val_precision: 0.1762 - val_fp: 7501.0000 - val_tn: 10312.0000 - val_tp: 1604.0000 - val_fn: 583.0000\n",
      "Epoch 16/50\n",
      "80000/80000 [==============================] - 4s 45us/step - loss: 1.5858e-05 - auc: 0.7229 - recall: 0.7596 - precision: 0.1789 - fp: 31439.0000 - tn: 39540.0000 - tp: 6852.0000 - fn: 2169.0000 - val_loss: 0.6123 - val_auc: 0.7238 - val_recall: 0.7554 - val_precision: 0.1732 - val_fp: 7885.0000 - val_tn: 9928.0000 - val_tp: 1652.0000 - val_fn: 535.0000\n",
      "Epoch 17/50\n",
      "80000/80000 [==============================] - 3s 32us/step - loss: 1.5780e-05 - auc: 0.7257 - recall: 0.7701 - precision: 0.1794 - fp: 31778.0000 - tn: 39201.0000 - tp: 6947.0000 - fn: 2074.0000 - val_loss: 0.6334 - val_auc: 0.7268 - val_recall: 0.7554 - val_precision: 0.1750 - val_fp: 7788.0000 - val_tn: 10025.0000 - val_tp: 1652.0000 - val_fn: 535.0000\n",
      "Epoch 18/50\n",
      "80000/80000 [==============================] - 3s 32us/step - loss: 1.5503e-05 - auc: 0.7264 - recall: 0.7653 - precision: 0.1801 - fp: 31422.0000 - tn: 39557.0000 - tp: 6904.0000 - fn: 2117.0000 - val_loss: 0.5927 - val_auc: 0.7256 - val_recall: 0.7458 - val_precision: 0.1766 - val_fp: 7605.0000 - val_tn: 10208.0000 - val_tp: 1631.0000 - val_fn: 556.0000\n",
      "Epoch 19/50\n",
      "80000/80000 [==============================] - 3s 32us/step - loss: 1.5561e-05 - auc: 0.7253 - recall: 0.7642 - precision: 0.1800 - fp: 31415.0000 - tn: 39564.0000 - tp: 6894.0000 - fn: 2127.0000 - val_loss: 0.5857 - val_auc: 0.7264 - val_recall: 0.7348 - val_precision: 0.1778 - val_fp: 7429.0000 - val_tn: 10384.0000 - val_tp: 1607.0000 - val_fn: 580.0000\n",
      "Epoch 20/50\n",
      "80000/80000 [==============================] - 3s 35us/step - loss: 1.5517e-05 - auc: 0.7286 - recall: 0.7654 - precision: 0.1810 - fp: 31244.0000 - tn: 39735.0000 - tp: 6905.0000 - fn: 2116.0000 - val_loss: 0.6091 - val_auc: 0.7274 - val_recall: 0.7641 - val_precision: 0.1741 - val_fp: 7929.0000 - val_tn: 9884.0000 - val_tp: 1671.0000 - val_fn: 516.0000\n",
      "Epoch 21/50\n",
      "80000/80000 [==============================] - 3s 44us/step - loss: 1.5414e-05 - auc: 0.7306 - recall: 0.7741 - precision: 0.1822 - fp: 31340.0000 - tn: 39639.0000 - tp: 6983.0000 - fn: 2038.0000 - val_loss: 0.5923 - val_auc: 0.7281 - val_recall: 0.7362 - val_precision: 0.1772 - val_fp: 7476.0000 - val_tn: 10337.0000 - val_tp: 1610.0000 - val_fn: 577.0000\n",
      "Epoch 22/50\n",
      "80000/80000 [==============================] - 3s 41us/step - loss: 1.5256e-05 - auc: 0.7306 - recall: 0.7648 - precision: 0.1821 - fp: 30993.0000 - tn: 39986.0000 - tp: 6899.0000 - fn: 2122.0000 - val_loss: 0.5997 - val_auc: 0.7293 - val_recall: 0.7572 - val_precision: 0.1756 - val_fp: 7776.0000 - val_tn: 10037.0000 - val_tp: 1656.0000 - val_fn: 531.0000\n",
      "Epoch 23/50\n",
      "80000/80000 [==============================] - 3s 42us/step - loss: 1.5211e-05 - auc: 0.7329 - recall: 0.7743 - precision: 0.1818 - fp: 31438.0000 - tn: 39541.0000 - tp: 6985.0000 - fn: 2036.0000 - val_loss: 0.5921 - val_auc: 0.7281 - val_recall: 0.7462 - val_precision: 0.1769 - val_fp: 7593.0000 - val_tn: 10220.0000 - val_tp: 1632.0000 - val_fn: 555.0000\n",
      "Epoch 24/50\n",
      "80000/80000 [==============================] - 4s 47us/step - loss: 1.5187e-05 - auc: 0.7336 - recall: 0.7734 - precision: 0.1815 - fp: 31464.0000 - tn: 39515.0000 - tp: 6977.0000 - fn: 2044.0000 - val_loss: 0.5923 - val_auc: 0.7280 - val_recall: 0.7449 - val_precision: 0.1765 - val_fp: 7600.0000 - val_tn: 10213.0000 - val_tp: 1629.0000 - val_fn: 558.0000\n",
      "Epoch 25/50\n",
      "80000/80000 [==============================] - 3s 43us/step - loss: 1.5093e-05 - auc: 0.7350 - recall: 0.7684 - precision: 0.1835 - fp: 30853.0000 - tn: 40126.0000 - tp: 6932.0000 - fn: 2089.0000 - val_loss: 0.5948 - val_auc: 0.7303 - val_recall: 0.7490 - val_precision: 0.1764 - val_fp: 7647.0000 - val_tn: 10166.0000 - val_tp: 1638.0000 - val_fn: 549.0000\n",
      "Epoch 26/50\n",
      "80000/80000 [==============================] - 3s 40us/step - loss: 1.5241e-05 - auc: 0.7348 - recall: 0.7677 - precision: 0.1832 - fp: 30876.0000 - tn: 40103.0000 - tp: 6925.0000 - fn: 2096.0000 - val_loss: 0.5946 - val_auc: 0.7299 - val_recall: 0.7545 - val_precision: 0.1759 - val_fp: 7732.0000 - val_tn: 10081.0000 - val_tp: 1650.0000 - val_fn: 537.0000\n",
      "Epoch 27/50\n",
      "80000/80000 [==============================] - 4s 45us/step - loss: 1.5350e-05 - auc: 0.7361 - recall: 0.7700 - precision: 0.1836 - fp: 30888.0000 - tn: 40091.0000 - tp: 6946.0000 - fn: 2075.0000 - val_loss: 0.6147 - val_auc: 0.7278 - val_recall: 0.7389 - val_precision: 0.1784 - val_fp: 7440.0000 - val_tn: 10373.0000 - val_tp: 1616.0000 - val_fn: 571.0000\n",
      "Epoch 28/50\n",
      "80000/80000 [==============================] - 3s 38us/step - loss: 1.5925e-05 - auc: 0.7374 - recall: 0.7743 - precision: 0.1838 - fp: 31012.0000 - tn: 39967.0000 - tp: 6985.0000 - fn: 2036.0000 - val_loss: 0.5971 - val_auc: 0.7303 - val_recall: 0.7535 - val_precision: 0.1760 - val_fp: 7716.0000 - val_tn: 10097.0000 - val_tp: 1648.0000 - val_fn: 539.0000\n",
      "Epoch 29/50\n",
      "80000/80000 [==============================] - 3s 36us/step - loss: 1.5164e-05 - auc: 0.7394 - recall: 0.7739 - precision: 0.1843 - fp: 30898.0000 - tn: 40081.0000 - tp: 6981.0000 - fn: 2040.0000 - val_loss: 0.5984 - val_auc: 0.7311 - val_recall: 0.7595 - val_precision: 0.1755 - val_fp: 7806.0000 - val_tn: 10007.0000 - val_tp: 1661.0000 - val_fn: 526.0000\n",
      "Epoch 30/50\n",
      "80000/80000 [==============================] - 3s 35us/step - loss: 1.5027e-05 - auc: 0.7390 - recall: 0.7771 - precision: 0.1840 - fp: 31098.0000 - tn: 39881.0000 - tp: 7010.0000 - fn: 2011.0000 - val_loss: 0.6027 - val_auc: 0.7310 - val_recall: 0.7604 - val_precision: 0.1739 - val_fp: 7899.0000 - val_tn: 9914.0000 - val_tp: 1663.0000 - val_fn: 524.0000\n",
      "Epoch 31/50\n",
      "80000/80000 [==============================] - 3s 40us/step - loss: 1.5282e-05 - auc: 0.7386 - recall: 0.7771 - precision: 0.1835 - fp: 31200.0000 - tn: 39779.0000 - tp: 7010.0000 - fn: 2011.0000 - val_loss: 0.5935 - val_auc: 0.7298 - val_recall: 0.7531 - val_precision: 0.1775 - val_fp: 7630.0000 - val_tn: 10183.0000 - val_tp: 1647.0000 - val_fn: 540.0000\n",
      "Epoch 32/50\n",
      "80000/80000 [==============================] - 3s 34us/step - loss: 1.5026e-05 - auc: 0.7421 - recall: 0.7835 - precision: 0.1857 - fp: 30987.0000 - tn: 39992.0000 - tp: 7068.0000 - fn: 1953.0000 - val_loss: 0.5614 - val_auc: 0.7294 - val_recall: 0.7147 - val_precision: 0.1824 - val_fp: 7008.0000 - val_tn: 10805.0000 - val_tp: 1563.0000 - val_fn: 624.0000\n",
      "Epoch 33/50\n",
      "80000/80000 [==============================] - 3s 35us/step - loss: 1.4972e-05 - auc: 0.7423 - recall: 0.7782 - precision: 0.1853 - fp: 30870.0000 - tn: 40109.0000 - tp: 7020.0000 - fn: 2001.0000 - val_loss: 0.6003 - val_auc: 0.7315 - val_recall: 0.7673 - val_precision: 0.1753 - val_fp: 7894.0000 - val_tn: 9919.0000 - val_tp: 1678.0000 - val_fn: 509.0000\n",
      "Epoch 34/50\n",
      "80000/80000 [==============================] - 3s 34us/step - loss: 1.4916e-05 - auc: 0.7425 - recall: 0.7878 - precision: 0.1847 - fp: 31375.0000 - tn: 39604.0000 - tp: 7107.0000 - fn: 1914.0000 - val_loss: 0.5916 - val_auc: 0.7317 - val_recall: 0.7508 - val_precision: 0.1779 - val_fp: 7587.0000 - val_tn: 10226.0000 - val_tp: 1642.0000 - val_fn: 545.0000\n",
      "Epoch 35/50\n",
      "80000/80000 [==============================] - 3s 42us/step - loss: 1.4907e-05 - auc: 0.7435 - recall: 0.7837 - precision: 0.1859 - fp: 30964.0000 - tn: 40015.0000 - tp: 7070.0000 - fn: 1951.0000 - val_loss: 0.5841 - val_auc: 0.7306 - val_recall: 0.7526 - val_precision: 0.1782 - val_fp: 7589.0000 - val_tn: 10224.0000 - val_tp: 1646.0000 - val_fn: 541.0000\n",
      "Epoch 36/50\n",
      "80000/80000 [==============================] - 3s 34us/step - loss: 1.4842e-05 - auc: 0.7462 - recall: 0.7839 - precision: 0.1871 - fp: 30736.0000 - tn: 40243.0000 - tp: 7072.0000 - fn: 1949.0000 - val_loss: 0.5803 - val_auc: 0.7308 - val_recall: 0.7439 - val_precision: 0.1782 - val_fp: 7503.0000 - val_tn: 10310.0000 - val_tp: 1627.0000 - val_fn: 560.0000\n",
      "Epoch 37/50\n",
      "80000/80000 [==============================] - 3s 33us/step - loss: 1.4842e-05 - auc: 0.7467 - recall: 0.7856 - precision: 0.1866 - fp: 30893.0000 - tn: 40086.0000 - tp: 7087.0000 - fn: 1934.0000 - val_loss: 0.5862 - val_auc: 0.7302 - val_recall: 0.7490 - val_precision: 0.1770 - val_fp: 7618.0000 - val_tn: 10195.0000 - val_tp: 1638.0000 - val_fn: 549.0000\n",
      "Epoch 38/50\n",
      "80000/80000 [==============================] - 3s 32us/step - loss: 1.4815e-05 - auc: 0.7470 - recall: 0.7905 - precision: 0.1865 - fp: 31111.0000 - tn: 39868.0000 - tp: 7131.0000 - fn: 1890.0000 - val_loss: 0.5619 - val_auc: 0.7310 - val_recall: 0.7211 - val_precision: 0.1811 - val_fp: 7130.0000 - val_tn: 10683.0000 - val_tp: 1577.0000 - val_fn: 610.0000\n",
      "Epoch 39/50\n",
      "80000/80000 [==============================] - 3s 33us/step - loss: 1.4732e-05 - auc: 0.7493 - recall: 0.7848 - precision: 0.1883 - fp: 30510.0000 - tn: 40469.0000 - tp: 7080.0000 - fn: 1941.0000 - val_loss: 0.5732 - val_auc: 0.7310 - val_recall: 0.7334 - val_precision: 0.1791 - val_fp: 7350.0000 - val_tn: 10463.0000 - val_tp: 1604.0000 - val_fn: 583.0000\n",
      "Epoch 40/50\n",
      "80000/80000 [==============================] - 3s 34us/step - loss: 1.4736e-05 - auc: 0.7498 - recall: 0.7907 - precision: 0.1880 - fp: 30806.0000 - tn: 40173.0000 - tp: 7133.0000 - fn: 1888.0000 - val_loss: 0.5813 - val_auc: 0.7306 - val_recall: 0.7462 - val_precision: 0.1784 - val_fp: 7518.0000 - val_tn: 10295.0000 - val_tp: 1632.0000 - val_fn: 555.0000\n",
      "Epoch 41/50\n",
      "80000/80000 [==============================] - 3s 37us/step - loss: 1.4674e-05 - auc: 0.7520 - recall: 0.7955 - precision: 0.1879 - fp: 31008.0000 - tn: 39971.0000 - tp: 7176.0000 - fn: 1845.0000 - val_loss: 0.5586 - val_auc: 0.7297 - val_recall: 0.7197 - val_precision: 0.1816 - val_fp: 7092.0000 - val_tn: 10721.0000 - val_tp: 1574.0000 - val_fn: 613.0000\n",
      "Epoch 42/50\n",
      "80000/80000 [==============================] - 3s 36us/step - loss: 1.4668e-05 - auc: 0.7520 - recall: 0.7934 - precision: 0.1881 - fp: 30883.0000 - tn: 40096.0000 - tp: 7157.0000 - fn: 1864.0000 - val_loss: 0.5799 - val_auc: 0.7324 - val_recall: 0.7549 - val_precision: 0.1787 - val_fp: 7587.0000 - val_tn: 10226.0000 - val_tp: 1651.0000 - val_fn: 536.0000\n",
      "Epoch 43/50\n",
      "80000/80000 [==============================] - 3s 33us/step - loss: 1.4680e-05 - auc: 0.7523 - recall: 0.7923 - precision: 0.1886 - fp: 30757.0000 - tn: 40222.0000 - tp: 7147.0000 - fn: 1874.0000 - val_loss: 0.5774 - val_auc: 0.7307 - val_recall: 0.7375 - val_precision: 0.1787 - val_fp: 7413.0000 - val_tn: 10400.0000 - val_tp: 1613.0000 - val_fn: 574.0000\n",
      "Epoch 44/50\n",
      "80000/80000 [==============================] - 3s 36us/step - loss: 1.4613e-05 - auc: 0.7543 - recall: 0.7966 - precision: 0.1886 - fp: 30906.0000 - tn: 40073.0000 - tp: 7186.0000 - fn: 1835.0000 - val_loss: 0.5677 - val_auc: 0.7311 - val_recall: 0.7247 - val_precision: 0.1789 - val_fp: 7275.0000 - val_tn: 10538.0000 - val_tp: 1585.0000 - val_fn: 602.0000\n",
      "Epoch 45/50\n",
      "80000/80000 [==============================] - 3s 35us/step - loss: 1.4546e-05 - auc: 0.7568 - recall: 0.8007 - precision: 0.1908 - fp: 30633.0000 - tn: 40346.0000 - tp: 7223.0000 - fn: 1798.0000 - val_loss: 0.5810 - val_auc: 0.7299 - val_recall: 0.7485 - val_precision: 0.1789 - val_fp: 7513.0000 - val_tn: 10300.0000 - val_tp: 1637.0000 - val_fn: 550.0000\n",
      "Epoch 46/50\n",
      "80000/80000 [==============================] - 3s 38us/step - loss: 1.4563e-05 - auc: 0.7570 - recall: 0.8029 - precision: 0.1906 - fp: 30760.0000 - tn: 40219.0000 - tp: 7243.0000 - fn: 1778.0000 - val_loss: 0.5815 - val_auc: 0.7301 - val_recall: 0.7430 - val_precision: 0.1778 - val_fp: 7517.0000 - val_tn: 10296.0000 - val_tp: 1625.0000 - val_fn: 562.0000\n",
      "Epoch 47/50\n",
      "80000/80000 [==============================] - 3s 36us/step - loss: 1.4506e-05 - auc: 0.7580 - recall: 0.8024 - precision: 0.1902 - fp: 30809.0000 - tn: 40170.0000 - tp: 7238.0000 - fn: 1783.0000 - val_loss: 0.5759 - val_auc: 0.7306 - val_recall: 0.7449 - val_precision: 0.1782 - val_fp: 7512.0000 - val_tn: 10301.0000 - val_tp: 1629.0000 - val_fn: 558.0000\n",
      "Epoch 48/50\n",
      "80000/80000 [==============================] - 3s 37us/step - loss: 1.4458e-05 - auc: 0.7604 - recall: 0.8048 - precision: 0.1909 - fp: 30778.0000 - tn: 40201.0000 - tp: 7260.0000 - fn: 1761.0000 - val_loss: 0.5535 - val_auc: 0.7298 - val_recall: 0.7197 - val_precision: 0.1814 - val_fp: 7102.0000 - val_tn: 10711.0000 - val_tp: 1574.0000 - val_fn: 613.0000\n",
      "Epoch 49/50\n",
      "80000/80000 [==============================] - 3s 36us/step - loss: 1.4471e-05 - auc: 0.7605 - recall: 0.8024 - precision: 0.1902 - fp: 30820.0000 - tn: 40159.0000 - tp: 7238.0000 - fn: 1783.0000 - val_loss: 0.5948 - val_auc: 0.7304 - val_recall: 0.7572 - val_precision: 0.1745 - val_fp: 7835.0000 - val_tn: 9978.0000 - val_tp: 1656.0000 - val_fn: 531.0000\n",
      "Epoch 50/50\n",
      "80000/80000 [==============================] - 3s 36us/step - loss: 1.4397e-05 - auc: 0.7625 - recall: 0.8060 - precision: 0.1918 - fp: 30631.0000 - tn: 40348.0000 - tp: 7271.0000 - fn: 1750.0000 - val_loss: 0.5891 - val_auc: 0.7288 - val_recall: 0.7490 - val_precision: 0.1746 - val_fp: 7741.0000 - val_tn: 10072.0000 - val_tp: 1638.0000 - val_fn: 549.0000\n",
      "Cell Runtime: 148.16560006141663\n"
     ]
    }
   ],
   "source": [
    "t0 = time.time()\n",
    "metrics_list = [metrics.AUC(name=\"auc\"),\n",
    "                metrics.Recall(name=\"recall\"),\n",
    "                metrics.Precision(name=\"precision\"),\n",
    "                metrics.FalsePositives(name=\"fp\"),\n",
    "                metrics.TrueNegatives(name=\"tn\"),\n",
    "                metrics.TruePositives(name=\"tp\"),\n",
    "                metrics.FalseNegatives(name=\"fn\"),\n",
    "                metrics.Precision(name=\"precision\")]\n",
    "\n",
    "model.compile(optimizer='adam', loss=\"binary_crossentropy\", metrics=metrics_list)\n",
    "\n",
    "class_weights = {0: weight_for_0, 1: weight_for_1}\n",
    "\n",
    "history = model.fit(\n",
    "    X_t_train,\n",
    "    y_t_train,\n",
    "    batch_size=500,\n",
    "    epochs=50,\n",
    "    validation_data=(X_t_val, y_t_val),\n",
    "    class_weight=class_weights)\n",
    "t1 = time.time()\n",
    "print('Cell Runtime: {}'.format(t1-t0))"
   ]
  },
  {
   "cell_type": "code",
   "execution_count": 12,
   "metadata": {},
   "outputs": [
    {
     "name": "stdout",
     "output_type": "stream",
     "text": [
      "20000/20000 [==============================] - 0s 17us/step\n"
     ]
    }
   ],
   "source": [
    "val_metrics = model.evaluate(X_t_val, y_t_val, batch_size=250)"
   ]
  },
  {
   "cell_type": "code",
   "execution_count": 13,
   "metadata": {},
   "outputs": [
    {
     "data": {
      "image/png": "[encoded data removed]",
      "text/plain": [
       "<Figure size 1080x360 with 3 Axes>"
      ]
     },
     "metadata": {
      "needs_background": "light"
     },
     "output_type": "display_data"
    }
   ],
   "source": [
    "fig, (ax1, ax2, ax3) = plt.subplots(1, 3, figsize=(15,5))\n",
    "ax1.plot(history.history['val_auc'],c='red')\n",
    "ax1.set_title('Val AUC')\n",
    "ax2.plot(history.history['val_recall'],c='blue')\n",
    "ax2.set_title('Val Recall')\n",
    "ax3.plot(history.history['val_loss'],c='black')\n",
    "ax3.set_title('Val Loss')\n",
    "plt.show()"
   ]
  },
  {
   "cell_type": "markdown",
   "metadata": {},
   "source": [
    "### The validation AUC appears to plateau (and is perhaps even starting to diminish) after epoch 40, likewise, the validation loss doesnt appear to be reducing any further after epochs 35-40)"
   ]
  },
  {
   "cell_type": "code",
   "execution_count": 20,
   "metadata": {},
   "outputs": [],
   "source": [
    "pred = model.predict_classes(X_t_val)\n",
    "data_matrix = confusion_matrix(y_t_val, pred"
   ]
  },
  {
   "cell_type": "code",
   "execution_count": 26,
   "metadata": {},
   "outputs": [
    {
     "name": "stdout",
     "output_type": "stream",
     "text": [
      "NN Validation Recall: 0.8060082197189331\n",
      "NN Validation AUC: 0.7624868154525757\n"
     ]
    },
    {
     "data": {
      "image/png": "[encoded data removed]",
      "text/plain": [
       "<Figure size 720x720 with 1 Axes>"
      ]
     },
     "metadata": {
      "needs_background": "light"
     },
     "output_type": "display_data"
    }
   ],
   "source": [
    "fig, ax = plt.subplots(figsize=(10,10))\n",
    "# Using matshow here just because it sets the ticks up nicely. imshow is faster.\n",
    "ax.imshow(data_matrix, cmap='Blues')\n",
    "\n",
    "for (i, j), z in np.ndenumerate(data_matrix):\n",
    "    ax.text(j, i, '{:d}'.format(z), ha='center', va='center', fontsize=20, \n",
    "            bbox=dict(boxstyle='round', facecolor='white', edgecolor='0.3'))\n",
    "tick_marks = np.arange(2)\n",
    "plt.title('Neural Network Model Confusion Matrix', pad=15)\n",
    "plt.xticks(tick_marks, ['Non-Default','Default'])\n",
    "plt.yticks(tick_marks, ['Non-Default','Defualt'])\n",
    "plt.ylabel('Actual',)\n",
    "plt.xlabel('Predicted')\n",
    "plt.savefig('lending-club-loan-data/DeepLearningMatrix.png')\n",
    "print('NN Validation Recall: {}'.format(history.history['recall'][-1]))\n",
    "print('NN Validation AUC: {}'.format(history.history['auc'][-1]))"
   ]
  },
  {
   "cell_type": "markdown",
   "metadata": {},
   "source": [
    "### The Neural Network is the best model out of all the machine learning algorthims tried, with a recall and AUC score far above those of the RandomForest and GradientBoosting Classifiers"
   ]
  }
 ],
 "metadata": {
  "kernelspec": {
   "display_name": "Python 3",
   "language": "python",
   "name": "python3"
  },
  "language_info": {
   "codemirror_mode": {
    "name": "ipython",
    "version": 3
   },
   "file_extension": ".py",
   "mimetype": "text/x-python",
   "name": "python",
   "nbconvert_exporter": "python",
   "pygments_lexer": "ipython3",
   "version": "3.7.7"
  }
 },
 "nbformat": 4,
 "nbformat_minor": 4
}
