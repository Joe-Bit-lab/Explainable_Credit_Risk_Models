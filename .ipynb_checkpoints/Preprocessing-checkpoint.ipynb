{
 "cells": [
  {
   "cell_type": "code",
   "execution_count": 7,
   "metadata": {},
   "outputs": [],
   "source": [
    "import pandas as pd\n",
    "import numpy as np\n",
    "import matplotlib.pyplot as plt\n",
    "from sklearn.preprocessing import OneHotEncoder, StandardScaler, OrdinalEncoder, RobustScaler\n",
    "from sklearn.compose import ColumnTransformer\n",
    "import time\n",
    "import warnings\n",
    "warnings.filterwarnings(\"ignore\")"
   ]
  },
  {
   "cell_type": "markdown",
   "metadata": {},
   "source": [
    "### Importing Data (and timing how long it takes):"
   ]
  },
  {
   "cell_type": "code",
   "execution_count": 2,
   "metadata": {},
   "outputs": [
    {
     "name": "stdout",
     "output_type": "stream",
     "text": [
      "Cell Runtime: 21.775784015655518\n"
     ]
    }
   ],
   "source": [
    "t0 = time.time()\n",
    "df = pd.read_csv('lending-club-loan-data/df_clean.csv')\n",
    "df.drop('Unnamed: 0',axis=1,inplace=True)\n",
    "t1 = time.time()\n",
    "print('Cell Runtime: {}'.format(t1-t0))"
   ]
  },
  {
   "cell_type": "markdown",
   "metadata": {},
   "source": [
    "### Defining X and y:"
   ]
  },
  {
   "cell_type": "code",
   "execution_count": 3,
   "metadata": {},
   "outputs": [],
   "source": [
    "y = df['loan_status']\n",
    "X = df.drop('loan_status', axis=1)"
   ]
  },
  {
   "cell_type": "markdown",
   "metadata": {},
   "source": [
    "### Scaling and Encoding: "
   ]
  },
  {
   "cell_type": "markdown",
   "metadata": {},
   "source": [
    "### Sklearn's OneHotEncoder, RobustScaler (due to the presence of many outliers), and OrdinalEncoder are used to transform the data:"
   ]
  },
  {
   "cell_type": "code",
   "execution_count": 4,
   "metadata": {},
   "outputs": [
    {
     "name": "stdout",
     "output_type": "stream",
     "text": [
      "Cell Runtime: 178.07948112487793\n"
     ]
    }
   ],
   "source": [
    "t0 = time.time()\n",
    "ohe = OneHotEncoder()\n",
    "ordenc = OrdinalEncoder()\n",
    "rs = RobustScaler()\n",
    "\n",
    "df_obj = df.select_dtypes(exclude='number')\n",
    "df_num = df.select_dtypes(include='number')\n",
    "df_num.drop('loan_status',axis=1,inplace=True)\n",
    "\n",
    "numeric_columns = list(df_num.columns)\n",
    "ord_columns = ['term', 'grade', 'sub_grade', 'earliest_cr_line']\n",
    "cat_columns = list(df_obj.drop(ord_columns, axis=1).columns)\n",
    "numeric_ord_columns = numeric_columns + ord_columns\n",
    "\n",
    "preprocessor = ColumnTransformer(\n",
    "    transformers=[\n",
    "        ('cat', ohe, cat_columns),\n",
    "        ('ord', ordenc, ord_columns)])\n",
    "\n",
    "X_tran = preprocessor.fit_transform(X)\n",
    "cat_names = preprocessor.named_transformers_['cat'].categories_\n",
    "cat_names = [val for sublist in cat_names for val in sublist]\n",
    "column_names = cat_names + ord_columns\n",
    "X_tran = pd.DataFrame.sparse.from_spmatrix(X_tran, columns=column_names)\n",
    "cols_to_drop = list(X_tran.columns)[:-4]\n",
    "X_cat = X_tran[cols_to_drop]\n",
    "X_tran.drop(cols_to_drop, axis=1, inplace=True)\n",
    "X_tran = pd.concat([df_num, X_tran], axis=1)\n",
    "X_tran = rs.fit_transform(X_tran)\n",
    "X_tran = pd.DataFrame(X_tran, columns = numeric_ord_columns)\n",
    "X_tran = pd.concat([X_tran, X_cat], axis=1)\n",
    "t1 = time.time()\n",
    "print('Cell Runtime: {}'.format(t1-t0))"
   ]
  },
  {
   "cell_type": "code",
   "execution_count": 8,
   "metadata": {},
   "outputs": [],
   "source": [
    "df_modeling = pd.concat([y, X_tran], axis=1)"
   ]
  },
  {
   "cell_type": "code",
   "execution_count": 9,
   "metadata": {},
   "outputs": [
    {
     "name": "stdout",
     "output_type": "stream",
     "text": [
      "Cell Runtime: 690.744145154953\n"
     ]
    }
   ],
   "source": [
    "t0=time.time()\n",
    "df_modeling.to_csv('lending-club-loan-data/df_modeling.csv')\n",
    "t1=time.time()\n",
    "print('Cell Runtime: {}'.format(t1-t0))"
   ]
  }
 ],
 "metadata": {
  "kernelspec": {
   "display_name": "Python 3",
   "language": "python",
   "name": "python3"
  },
  "language_info": {
   "codemirror_mode": {
    "name": "ipython",
    "version": 3
   },
   "file_extension": ".py",
   "mimetype": "text/x-python",
   "name": "python",
   "nbconvert_exporter": "python",
   "pygments_lexer": "ipython3",
   "version": "3.7.7"
  }
 },
 "nbformat": 4,
 "nbformat_minor": 4
}
